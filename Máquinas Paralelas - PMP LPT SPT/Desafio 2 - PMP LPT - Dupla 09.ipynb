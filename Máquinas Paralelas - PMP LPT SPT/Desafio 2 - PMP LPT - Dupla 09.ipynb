{
 "cells": [
  {
   "cell_type": "markdown",
   "metadata": {},
   "source": [
    "# Desafio 2 - PMP LPT/SPT\n",
    "\n",
    "**Integrantes:**\n",
    "\n",
    "* Lucas Hideki Takeuchi Okamura NUSP: 9274315\n",
    "\n",
    "* Thales Arantes Kerche Nunes NUSP: 10769372\n",
    "\n",
    "**Objetivos**\n",
    "\n",
    "* Minimizar o tempo total (makespan) na programação de máquinas paralelas (PMP - Parallel Machine Problem), utilizando a regra do maior tempo de processamento (LPT - longest processing time)\n",
    "\n",
    "**Descrição**\n",
    "* Dado um conjunto de ‘n’ jobs a serem processados em uma dentre ‘m’ máquinas, alocar os jobs nas máquinas de modo a minimizar o tempo total de conclusão dos jobs (makespan)\n",
    "\n",
    "* Alocados os jobs nas máquinas, ordenar os jobs em cada máquina pelo menor tempo de processamento (SPT – Shortest Processing Time) para minimizar o tempo médio de fluxo (Fbar)"
   ]
  },
  {
   "cell_type": "code",
   "execution_count": 1,
   "metadata": {},
   "outputs": [],
   "source": [
    "# Importando libraries necessárias\n",
    "import pandas as pd"
   ]
  },
  {
   "cell_type": "markdown",
   "metadata": {},
   "source": [
    "# 1. Criando Classes de interesse"
   ]
  },
  {
   "cell_type": "code",
   "execution_count": 2,
   "metadata": {},
   "outputs": [],
   "source": [
    "class Job:\n",
    "    def __init__(self,i,pi):\n",
    "        self.i=i     # número do job, pela ordem de chegada\n",
    "        self.p=pi     # processing time\n",
    "        self.C=0.0     # completion time\n",
    "        self.T=0.0     # tardiness"
   ]
  },
  {
   "cell_type": "code",
   "execution_count": 3,
   "metadata": {},
   "outputs": [],
   "source": [
    "class Maq:\n",
    "    def __init__(self,k):\n",
    "        self.k=k     # índice da máquina\n",
    "        self.jobs=[]     # jobs alocados à máquina\n",
    "        self.carga=0.0     # carga alocada à máquina"
   ]
  },
  {
   "cell_type": "markdown",
   "metadata": {},
   "source": [
    "# 2. Definindo funções auxiliares"
   ]
  },
  {
   "cell_type": "markdown",
   "metadata": {},
   "source": [
    "A função _read_sheet_   lê uma planilha com dados de teste e devolve um Data Frame com os jobs, o número de jobs e o número de máquinas. Os argumentos de entrada são o nome do arquivo e o nome da aba / planilha."
   ]
  },
  {
   "cell_type": "code",
   "execution_count": 4,
   "metadata": {},
   "outputs": [],
   "source": [
    "def read_sheet(arc_name, sheet_name):\n",
    "    n_m_prov = pd.read_excel(arc_name, sheet_name = sheet_name, header = None, index_col = 0)\n",
    "    n = n_m_prov.loc['n', 1]\n",
    "    m = n_m_prov.loc['m', 1]\n",
    "    \n",
    "    jobs = pd.read_excel(arc_name, sheet_name = sheet_name, skiprows = 9)\n",
    "    \n",
    "    return n, m, jobs"
   ]
  },
  {
   "cell_type": "markdown",
   "metadata": {},
   "source": [
    "A função _save_sheet_  salva a planilha em um arquivo Excel com o nome escolhido. "
   ]
  },
  {
   "cell_type": "code",
   "execution_count": 5,
   "metadata": {},
   "outputs": [],
   "source": [
    "def save_sheet(arc_name, sheet_name, maqs, Cmax, Fbar, writer):\n",
    "    df = []\n",
    "    print('{:2s} {:2s} {:2s} {:2s}'.format('maq','#','p','C'))\n",
    "    for maq in maqs:\n",
    "        for job in maq.jobs:\n",
    "            df.append([maq.k,job.i, job.p, job.C])\n",
    "            print('{:2d} {:2d} {:2d} {:2d}'.format(maq.k, job.i, job.p, job.C))\n",
    "    print()\n",
    "    print('Cmax: {:4.1f}'.format(Cmax))\n",
    "    print('Fbar: {:4.1f}'.format(Fbar))\n",
    "    \n",
    "    df = pd.DataFrame(df, columns = ['maq', 'job', 'p', 'C'])\n",
    "    data = pd.DataFrame([[Cmax, Fbar]], columns = ['Cmax', 'Fbar'])\n",
    "    \n",
    "    df.to_excel(writer, sheet_name = sheet_name, startrow = 10, index = False)\n",
    "    data.to_excel(writer, sheet_name = sheet_name, startrow = 5, index = False)"
   ]
  },
  {
   "cell_type": "markdown",
   "metadata": {},
   "source": [
    "A função _create_jobs_ faz a criação de uma lista de jobs a partir do número de jobs \"n\" e uma lista de tempos de execução \"p\"."
   ]
  },
  {
   "cell_type": "code",
   "execution_count": 6,
   "metadata": {},
   "outputs": [],
   "source": [
    "def create_jobs(n, p):    # n é o número de jobs e p é a lista com os tempos de execução\n",
    "    jobs=[]\n",
    "    for i in range(n):\n",
    "        jobs.append(Job(i,p[i]))\n",
    "\n",
    "    return jobs"
   ]
  },
  {
   "cell_type": "markdown",
   "metadata": {},
   "source": [
    "A função _create_maq_ cria uma lista de máquinas a partir de um valor \"m\", que é o próprio número de máquinas."
   ]
  },
  {
   "cell_type": "code",
   "execution_count": 7,
   "metadata": {},
   "outputs": [],
   "source": [
    "def create_maqs(m):\n",
    "    maqs=[]\n",
    "    for k in range(m):\n",
    "        maqs.append(Maq(k))\n",
    "        \n",
    "    return maqs"
   ]
  },
  {
   "cell_type": "markdown",
   "metadata": {},
   "source": [
    "# 3. Definindo função principal PMP LPT-SPT"
   ]
  },
  {
   "cell_type": "markdown",
   "metadata": {},
   "source": [
    "**Objetivo**\n",
    "\n",
    "* Minimizar o tempo total (makespan) na programação de máquinas paralelas (PMP - Parallel Machine Problem), utilizando a regra do maior tempo de processamento (LPT - longest processing time)\n",
    "\n",
    "**Descrição**\n",
    "\n",
    "* Dado um conjunto de ‘n’ jobs a serem processados em uma dentre ‘m’ máquinas, alocar os jobs nas máquinas de modo a minimizar o tempo total de conclusão dos jobs (makespan)\n",
    "\n",
    "* Alocados os jobs nas máquinas, ordenar os jobs em cada máquina pelo menor tempo de processamento (SPT – Shortest Processing Time) para minimizar o tempo médio de fluxo (Fbar)\n",
    "\n",
    "**Procedimento**\n",
    "\n",
    "* Passo 1: Ordenar os jobs em ordem decrescente dos tempos de processamento (LPT).\n",
    "\n",
    "* Passo 2: Seguindo a ordem LPT, alocar os jobs na máquina com menor carga (soma dos tempos de processamento dos jobs já alocados). Em caso de empate, escolher arbitrariamente uma entre as máquinas com menor carga (p.ex: máquina de menor índice).\n",
    "\n",
    "* Passo 3: Definidas as alocações, ordenar os jobs em cada máquina em ordem crescente dos tempos (SPT).\n",
    "\n",
    "* Passo 4: Calcular os indicadores Cmax e Fbar."
   ]
  },
  {
   "cell_type": "code",
   "execution_count": 8,
   "metadata": {},
   "outputs": [],
   "source": [
    "def PMP(jobs, maqs):\n",
    "    jobs.sort(key = lambda job: job.p, reverse = True)\n",
    "    for job in jobs:\n",
    "        minimun = 999999999\n",
    "        for j in range(len(maqs)):\n",
    "            if maqs[j].carga < minimun:\n",
    "                minimun = maqs[j].carga\n",
    "                ind_min = j\n",
    "        maqs[ind_min].carga += job.p\n",
    "        maqs[ind_min].jobs.append(job)\n",
    "    \n",
    "    Cmax=0\n",
    "    for maq in maqs:\n",
    "        maq.jobs.sort(key=lambda job: job.p)\n",
    "        maq.jobs[0].C=maq.jobs[0].p\n",
    "        for j in range(1,len(maq.jobs)):\n",
    "            maq.jobs[j].C=maq.jobs[j-1].C+maq.jobs[j].p\n",
    "        if maq.carga > Cmax:\n",
    "            Cmax = maq.carga\n",
    "        \n",
    "    Fbar = sum([job.C for maq in maqs for job in maq.jobs])/n\n",
    "                \n",
    "    return jobs, maqs, Cmax, Fbar           "
   ]
  },
  {
   "cell_type": "markdown",
   "metadata": {},
   "source": [
    "# 4. Testes e Gravação em Excel"
   ]
  },
  {
   "cell_type": "code",
   "execution_count": 9,
   "metadata": {},
   "outputs": [
    {
     "name": "stdout",
     "output_type": "stream",
     "text": [
      "Teste 1\n",
      "maq #  p  C \n",
      " 0  2  2  2\n",
      " 0  3  6  8\n",
      " 1  4  1  1\n",
      " 1  0  3  4\n",
      " 1  1  4  8\n",
      "\n",
      "Cmax:  8.0\n",
      "Fbar:  4.6\n",
      "\n",
      "Teste 2\n",
      "maq #  p  C \n",
      " 0  5  1  1\n",
      " 0  0  4  5\n",
      " 0  4 15 20\n",
      " 1  7  1  1\n",
      " 1  1  2  3\n",
      " 1  6  5  8\n",
      " 1  3 12 20\n",
      " 2  8  3  3\n",
      " 2  9  7 10\n",
      " 2  2  9 19\n",
      "\n",
      "Cmax: 20.0\n",
      "Fbar:  9.0\n",
      "\n",
      "Teste 3\n",
      "maq #  p  C \n",
      " 0  1  6  6\n",
      " 0  2  7 13\n",
      " 0  0 12 25\n",
      " 0  8 20 45\n",
      " 1  4  2  2\n",
      " 1 11 10 12\n",
      " 1  9 13 25\n",
      " 1 10 17 42\n",
      " 2  5  3  3\n",
      " 2  3  8 11\n",
      " 2  6 15 26\n",
      " 2  7 16 42\n",
      "\n",
      "Cmax: 45.0\n",
      "Fbar: 21.0\n",
      "\n",
      "Teste 4\n",
      "maq #  p  C \n",
      " 0  0  1  1\n",
      " 0  5  6  7\n",
      " 0  6  7 14\n",
      " 0 11 12 26\n",
      " 1  1  2  2\n",
      " 1  4  5  7\n",
      " 1  7  8 15\n",
      " 1 10 11 26\n",
      " 2  2  3  3\n",
      " 2  3  4  7\n",
      " 2  8  9 16\n",
      " 2  9 10 26\n",
      "\n",
      "Cmax: 26.0\n",
      "Fbar: 12.5\n",
      "\n",
      "Teste 5\n",
      "maq #  p  C \n",
      " 0  0  1  1\n",
      " 0  5  1  2\n",
      " 0 10  1  3\n",
      " 1  1  1  1\n",
      " 1  6  1  2\n",
      " 1 11  1  3\n",
      " 2  2  1  1\n",
      " 2  7  1  2\n",
      " 2 12  1  3\n",
      " 3  3  1  1\n",
      " 3  8  1  2\n",
      " 3 13  1  3\n",
      " 4  4  1  1\n",
      " 4  9  1  2\n",
      " 4 14  1  3\n",
      "\n",
      "Cmax:  3.0\n",
      "Fbar:  2.0\n",
      "\n",
      "Teste 6\n",
      "maq #  p  C \n",
      " 0  0 13 13\n",
      " 0 17 17 30\n",
      " 0  8 48 78\n",
      " 0  9 94 172\n",
      " 1 13 14 14\n",
      " 1  7 19 33\n",
      " 1  1 48 81\n",
      " 1  6 90 171\n",
      " 2 15 15 15\n",
      " 2 16 24 39\n",
      " 2 10 55 94\n",
      " 2  3 76 170\n",
      " 3 14 14 14\n",
      " 3 11 32 46\n",
      " 3  2 55 101\n",
      " 3 18 70 171\n",
      " 4 19  2  2\n",
      " 4 12 37 39\n",
      " 4  5 61 100\n",
      " 4  4 63 163\n",
      "\n",
      "Cmax: 172.0\n",
      "Fbar: 77.3\n",
      "\n",
      "Teste 7\n",
      "maq #  p  C \n",
      " 0 16  1  1\n",
      " 0 40 17 18\n",
      " 0 29 36 54\n",
      " 0 33 36 90\n",
      " 0 12 53 143\n",
      " 0  1 59 202\n",
      " 0 27 69 271\n",
      " 0 38 82 353\n",
      " 0 37 85 438\n",
      " 0 39 99 537\n",
      " 1 23  9  9\n",
      " 1 45 18 27\n",
      " 1  0 27 54\n",
      " 1 47 44 98\n",
      " 1 15 56 154\n",
      " 1  6 61 215\n",
      " 1 20 61 276\n",
      " 1 11 81 357\n",
      " 1 32 87 444\n",
      " 1  7 98 542\n",
      " 2 28 11 11\n",
      " 2 34 13 24\n",
      " 2 42 32 56\n",
      " 2 19 42 98\n",
      " 2  5 51 149\n",
      " 2 25 59 208\n",
      " 2  4 70 278\n",
      " 2 31 82 360\n",
      " 2 30 85 445\n",
      " 2  8 98 543\n",
      " 3 13  7  7\n",
      " 3 48 21 28\n",
      " 3  3 25 53\n",
      " 3 44 45 98\n",
      " 3 17 48 146\n",
      " 3 36 61 207\n",
      " 3 26 71 278\n",
      " 3 43 77 355\n",
      " 3  2 91 446\n",
      " 3 14 95 541\n",
      " 4 35  9  9\n",
      " 4 21 19 28\n",
      " 4 41 24 52\n",
      " 4 10 48 100\n",
      " 4 49 48 148\n",
      " 4 24 60 208\n",
      " 4 46 72 280\n",
      " 4  9 77 357\n",
      " 4 18 92 449\n",
      " 4 22 93 542\n",
      "\n",
      "Cmax: 543.0\n",
      "Fbar: 215.7\n",
      "\n"
     ]
    }
   ],
   "source": [
    "with pd.ExcelWriter(\"Desafio 2 - PMP LPT - Dupla 09.xlsx\", engine = 'xlsxwriter') as writer:\n",
    "    for i in range(1, 8):\n",
    "        print(\"Teste {}\".format(i))\n",
    "        n, m, jobs = read_sheet(arc_name = \"xl06 3 A PMP Cmax LPT-SPT.xlsx\", sheet_name = \"I({})\".format(i))\n",
    "        jobs = create_jobs(n, list(jobs.p))\n",
    "        maqs = create_maqs(m)\n",
    "        jobs_final, maqs_final, Cmax_final, Fbar_final = PMP(jobs, maqs)\n",
    "        save_sheet(arc_name = \"Desafio 2 - PMP LPT - Dupla 09.xlsx\", sheet_name = \"teste {}\".format(i),\n",
    "                    maqs = maqs_final, Cmax = Cmax_final, Fbar = Fbar_final, writer = writer)\n",
    "        print()"
   ]
  }
 ],
 "metadata": {
  "kernelspec": {
   "display_name": "Python 3",
   "language": "python",
   "name": "python3"
  },
  "language_info": {
   "codemirror_mode": {
    "name": "ipython",
    "version": 3
   },
   "file_extension": ".py",
   "mimetype": "text/x-python",
   "name": "python",
   "nbconvert_exporter": "python",
   "pygments_lexer": "ipython3",
   "version": "3.7.6"
  }
 },
 "nbformat": 4,
 "nbformat_minor": 4
}
