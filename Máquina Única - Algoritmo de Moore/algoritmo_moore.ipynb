{
 "cells": [
  {
   "cell_type": "markdown",
   "metadata": {},
   "source": [
    "# PRO3515 (Algoritmos de Otimização para Resolução de Problemas de Produção)\n",
    "## Desafio 1 - Algoritmo de Moore\n",
    "\n",
    "**Integrantes - Dupla 8:**\n",
    "\n",
    "Lucas Hideki Takeuchi Okamura           NUSP: 9274315\n",
    "\n",
    "Thales Arantes Kerche Nunes             NUSP: 10769372"
   ]
  },
  {
   "cell_type": "markdown",
   "metadata": {},
   "source": [
    "### 1. Definindo a classe Job:"
   ]
  },
  {
   "cell_type": "code",
   "execution_count": 1,
   "metadata": {},
   "outputs": [],
   "source": [
    "class Job:\n",
    "    def __init__(self,i,pi,di):\n",
    "        self.i=i     # número do job, pela ordem de chegada\n",
    "        self.p=pi     # processing time\n",
    "        self.d=di     # due date\n",
    "        self.C=0     # completion time\n",
    "        self.T=0     # tardiness\n",
    "        \n",
    "    def __str__(self):\n",
    "        return 'Job #{}, p = {}, d = {}, C = {}, T = {}'.format(self.i, self.p, self.d, self.C, self.T)"
   ]
  },
  {
   "cell_type": "markdown",
   "metadata": {},
   "source": [
    "### 2. Definindo funções"
   ]
  },
  {
   "cell_type": "markdown",
   "metadata": {},
   "source": [
    "* Definindo Funções Complementares"
   ]
  },
  {
   "cell_type": "code",
   "execution_count": 2,
   "metadata": {},
   "outputs": [],
   "source": [
    "def calc_completion(jobs):\n",
    "    jobs[0].C=jobs[0].p\n",
    "    for j in range(1, len(jobs)):\n",
    "        jobs[j].C=jobs[j-1].C+jobs[j].p\n",
    "        \n",
    "    return jobs"
   ]
  },
  {
   "cell_type": "markdown",
   "metadata": {},
   "source": [
    "* Algoritmo de Moore"
   ]
  },
  {
   "cell_type": "code",
   "execution_count": 3,
   "metadata": {},
   "outputs": [],
   "source": [
    "def moore(jobs):     # calcula os indicadores de uma sequência de jobs\n",
    "    \n",
    "    # Primeiramente, realiza-se um EDD e cria-se a lista B vazia\n",
    "    jobs.sort(key = lambda job: job.d)\n",
    "    jobs_c = jobs\n",
    "    nT_min = len(jobs)\n",
    "    nT_atual = len(jobs) - 1\n",
    "    B = []\n",
    "    \n",
    "    jobs_c = calc_completion(jobs_c)\n",
    "    \n",
    "    # Faz-se, então, iterações até encontrar o valor mínimo de atrasos\n",
    "    while nT_min > nT_atual:\n",
    "        nT_min = nT_atual\n",
    "        for i in range(len(jobs_c)):\n",
    "            jobs_c[i].T = max(0,jobs_c[i].C-jobs_c[i].d)\n",
    "            if jobs_c[i].T > 0:\n",
    "                highest_value = max([job.p for job in jobs_c[:i + 1]])\n",
    "                job_remove = [x for x in jobs_c[:i + 1] if x.p == highest_value][0]\n",
    "                jobs_c.remove(job_remove)\n",
    "                B.append(job_remove)\n",
    "                jobs_c = calc_completion(jobs_c)\n",
    "                break\n",
    "        nT = 0.0\n",
    "        for job in jobs_c:\n",
    "            if job.T>0:\n",
    "                nT+=1\n",
    "        nT_atual = nT\n",
    "    \n",
    "    # Adiciona-se a lista B ao fim da lista principal\n",
    "    B.sort(key = lambda job: job.p)\n",
    "    jobs_c = jobs_c + B\n",
    "    \n",
    "    # Por fim, recalcula-se todos os parâmetros para a lista formada\n",
    "    jobs_c = calc_completion(jobs_c)\n",
    "    for job in jobs_c:\n",
    "        job.T=max(0,job.C-job.d)\n",
    "        \n",
    "    Fbar=0.0\n",
    "    TT=0.0\n",
    "    Tmax=0.0\n",
    "    nT = 0.0\n",
    "    for job in jobs_c:\n",
    "        Fbar+=job.C\n",
    "        TT+=job.T\n",
    "        if job.T>0:\n",
    "            nT+=1\n",
    "            Tmax=max(Tmax,job.T)\n",
    "            \n",
    "    Cmax=jobs_c[-1].C\n",
    "    Fbar=Fbar/n\n",
    "\n",
    "    return Cmax, Fbar,TT, Tmax, nT, jobs_c"
   ]
  },
  {
   "cell_type": "markdown",
   "metadata": {},
   "source": [
    "Teste de formatação"
   ]
  },
  {
   "cell_type": "code",
   "execution_count": 4,
   "metadata": {},
   "outputs": [
    {
     "name": "stdout",
     "output_type": "stream",
     "text": [
      "Job #0, p = 3, d = 7, C = 0, T = 0\n",
      "Job #1, p = 4, d = 8, C = 0, T = 0\n",
      "Job #2, p = 2, d = 9, C = 0, T = 0\n",
      "Job #3, p = 6, d = 12, C = 0, T = 0\n",
      "Job #4, p = 1, d = 4, C = 0, T = 0\n"
     ]
    }
   ],
   "source": [
    "n=5\n",
    "p=[3,4,2,6,1]\n",
    "d=[7,8,9,12,4]\n",
    "\n",
    "jobs=[]\n",
    "for i in range(n):\n",
    "    jobs.append(Job(i,p[i],d[i]))\n",
    "\n",
    "for job in jobs:\n",
    "    print(job)"
   ]
  },
  {
   "cell_type": "markdown",
   "metadata": {},
   "source": [
    "### 3. Realizando Testes"
   ]
  },
  {
   "cell_type": "markdown",
   "metadata": {},
   "source": [
    " * Teste 1"
   ]
  },
  {
   "cell_type": "code",
   "execution_count": 5,
   "metadata": {},
   "outputs": [
    {
     "name": "stdout",
     "output_type": "stream",
     "text": [
      "#  p  d  C  T \n",
      " 4  1  4  1  0\n",
      " 0  3  7  4  0\n",
      " 2  2  9  6  0\n",
      " 3  6 12 12  0\n",
      " 1  4  8 16  8\n",
      "\n",
      "Cmax: 16.0\n",
      "Fbar:  7.8\n",
      "TT:    8.0\n",
      "Tmax:  8.0\n",
      "nT:   1.0\n"
     ]
    }
   ],
   "source": [
    "p = [3, 4, 2, 6, 1]\n",
    "d = [7, 8, 9, 12, 4]\n",
    "n = len(p)\n",
    "\n",
    "jobs1 = []\n",
    "for i in range(n):\n",
    "    jobs1.append(Job(i,p[i],d[i]))\n",
    "    \n",
    "Cmax, Fbar,TT, Tmax, nT, jobs1 = moore(jobs1)\n",
    "\n",
    "print('{:2s} {:2s} {:2s} {:2s} {:2s}'.format('#','p','d','C','T'))\n",
    "for job in jobs1:\n",
    "    print('{:2d} {:2d} {:2d} {:2d} {:2d}'.format(job.i, job.p, job.d, job.C, job.T))\n",
    "\n",
    "print()\n",
    "print('Cmax: {:4.1f}'.format(Cmax))\n",
    "print('Fbar: {:4.1f}'.format(Fbar))\n",
    "print('TT:   {:4.1f}'.format(TT))\n",
    "print('Tmax: {:4.1f}'.format(Tmax))\n",
    "print('nT:   {}'.format(nT))"
   ]
  },
  {
   "cell_type": "markdown",
   "metadata": {},
   "source": [
    " * Teste 2"
   ]
  },
  {
   "cell_type": "code",
   "execution_count": 6,
   "metadata": {},
   "outputs": [
    {
     "name": "stdout",
     "output_type": "stream",
     "text": [
      "#  p  d  C  T \n",
      " 0  3 20  3  0\n",
      " 1  4 20  7  0\n",
      " 2  2 20  9  0\n",
      " 3  6 20 15  0\n",
      " 4  1 20 16  0\n",
      "\n",
      "Cmax: 16.0\n",
      "Fbar: 10.0\n",
      "TT:    0.0\n",
      "Tmax:  0.0\n",
      "nT:   0.0\n"
     ]
    }
   ],
   "source": [
    "p=[3, 4, 2, 6, 1]\n",
    "d=[20, 20, 20, 20, 20]\n",
    "n = len(p)\n",
    "\n",
    "jobs2 = []\n",
    "for i in range(n):\n",
    "    jobs2.append(Job(i,p[i],d[i]))\n",
    "    \n",
    "Cmax, Fbar,TT, Tmax, nT, jobs2 = moore(jobs2)\n",
    "\n",
    "print('{:2s} {:2s} {:2s} {:2s} {:2s}'.format('#','p','d','C','T'))\n",
    "for job in jobs2:\n",
    "    print('{:2d} {:2d} {:2d} {:2d} {:2d}'.format(job.i, job.p, job.d, job.C, job.T))\n",
    "\n",
    "print()\n",
    "print('Cmax: {:4.1f}'.format(Cmax))\n",
    "print('Fbar: {:4.1f}'.format(Fbar))\n",
    "print('TT:   {:4.1f}'.format(TT))\n",
    "print('Tmax: {:4.1f}'.format(Tmax))\n",
    "print('nT:   {}'.format(nT))"
   ]
  },
  {
   "cell_type": "markdown",
   "metadata": {},
   "source": [
    "* Teste 3"
   ]
  },
  {
   "cell_type": "code",
   "execution_count": 7,
   "metadata": {},
   "outputs": [
    {
     "name": "stdout",
     "output_type": "stream",
     "text": [
      "#  p  d  C  T \n",
      " 2  2  0  2  2\n",
      " 3  6  0  8  8\n",
      " 4  1  0  9  9\n",
      " 0  3  0 12 12\n",
      " 1  4  0 16 16\n",
      "\n",
      "Cmax: 16.0\n",
      "Fbar:  9.4\n",
      "TT:   47.0\n",
      "Tmax: 16.0\n",
      "nT:   5.0\n"
     ]
    }
   ],
   "source": [
    "p=[3, 4, 2, 6, 1]\n",
    "d=[0, 0, 0, 0, 0]\n",
    "n = len(p)\n",
    "\n",
    "jobs3 = []\n",
    "for i in range(n):\n",
    "    jobs3.append(Job(i,p[i],d[i]))\n",
    "    \n",
    "Cmax, Fbar,TT, Tmax, nT, jobs3 = moore(jobs3)\n",
    "\n",
    "print('{:2s} {:2s} {:2s} {:2s} {:2s}'.format('#','p','d','C','T'))\n",
    "for job in jobs3:\n",
    "    print('{:2d} {:2d} {:2d} {:2d} {:2d}'.format(job.i, job.p, job.d, job.C, job.T))\n",
    "\n",
    "print()\n",
    "print('Cmax: {:4.1f}'.format(Cmax))\n",
    "print('Fbar: {:4.1f}'.format(Fbar))\n",
    "print('TT:   {:4.1f}'.format(TT))\n",
    "print('Tmax: {:4.1f}'.format(Tmax))\n",
    "print('nT:   {}'.format(nT))"
   ]
  },
  {
   "cell_type": "markdown",
   "metadata": {},
   "source": [
    " * Teste 4"
   ]
  },
  {
   "cell_type": "code",
   "execution_count": 8,
   "metadata": {},
   "outputs": [
    {
     "name": "stdout",
     "output_type": "stream",
     "text": [
      "#  p  d  C  T \n",
      " 0  1 10  1  0\n",
      " 1  2 10  3  0\n",
      " 2  3 10  6  0\n",
      " 3  4 10 10  0\n",
      " 4  5 10 15  5\n",
      "\n",
      "Cmax: 15.0\n",
      "Fbar:  7.0\n",
      "TT:    5.0\n",
      "Tmax:  5.0\n",
      "nT:   1.0\n"
     ]
    }
   ],
   "source": [
    "p=[1, 2, 3, 4, 5]\n",
    "d=[10, 10, 10, 10, 10]\n",
    "n = len(p)\n",
    "\n",
    "jobs4 = []\n",
    "for i in range(n):\n",
    "    jobs4.append(Job(i,p[i],d[i]))\n",
    "    \n",
    "Cmax, Fbar,TT, Tmax, nT, jobs4 = moore(jobs4)\n",
    "\n",
    "print('{:2s} {:2s} {:2s} {:2s} {:2s}'.format('#','p','d','C','T'))\n",
    "for job in jobs4:\n",
    "    print('{:2d} {:2d} {:2d} {:2d} {:2d}'.format(job.i, job.p, job.d, job.C, job.T))\n",
    "\n",
    "print()\n",
    "print('Cmax: {:4.1f}'.format(Cmax))\n",
    "print('Fbar: {:4.1f}'.format(Fbar))\n",
    "print('TT:   {:4.1f}'.format(TT))\n",
    "print('Tmax: {:4.1f}'.format(Tmax))\n",
    "print('nT:   {}'.format(nT))"
   ]
  },
  {
   "cell_type": "markdown",
   "metadata": {},
   "source": [
    " * Teste 5"
   ]
  },
  {
   "cell_type": "code",
   "execution_count": 9,
   "metadata": {},
   "outputs": [
    {
     "name": "stdout",
     "output_type": "stream",
     "text": [
      "#  p  d  C  T \n",
      " 0  1 20  1  0\n",
      " 1  6 30  7  0\n",
      " 2  2 30  9  0\n",
      " 3  1 30 10  0\n",
      " 5  8 30 18  0\n",
      " 6  2 30 20  0\n",
      " 7  3 30 23  0\n",
      " 9  1 40 24  0\n",
      " 4  9 30 33  3\n",
      " 8  9 30 42 12\n",
      "\n",
      "Cmax: 42.0\n",
      "Fbar: 18.7\n",
      "TT:   15.0\n",
      "Tmax: 12.0\n",
      "nT:   2.0\n"
     ]
    }
   ],
   "source": [
    "p=[1, 6, 2, 1, 9, 8, 2, 3, 9, 1]\n",
    "d=[20, 30, 30, 30, 30, 30, 30, 30, 30, 40]\n",
    "n = len(p)\n",
    "\n",
    "jobs5 = []\n",
    "for i in range(n):\n",
    "    jobs5.append(Job(i,p[i],d[i]))\n",
    "    \n",
    "Cmax, Fbar,TT, Tmax, nT, jobs5 = moore(jobs5)\n",
    "\n",
    "print('{:2s} {:2s} {:2s} {:2s} {:2s}'.format('#','p','d','C','T'))\n",
    "for job in jobs5:\n",
    "    print('{:2d} {:2d} {:2d} {:2d} {:2d}'.format(job.i, job.p, job.d, job.C, job.T))\n",
    "\n",
    "print()\n",
    "print('Cmax: {:4.1f}'.format(Cmax))\n",
    "print('Fbar: {:4.1f}'.format(Fbar))\n",
    "print('TT:   {:4.1f}'.format(TT))\n",
    "print('Tmax: {:4.1f}'.format(Tmax))\n",
    "print('nT:   {}'.format(nT))"
   ]
  },
  {
   "cell_type": "code",
   "execution_count": null,
   "metadata": {},
   "outputs": [],
   "source": []
  }
 ],
 "metadata": {
  "kernelspec": {
   "display_name": "Python 3",
   "language": "python",
   "name": "python3"
  },
  "language_info": {
   "codemirror_mode": {
    "name": "ipython",
    "version": 3
   },
   "file_extension": ".py",
   "mimetype": "text/x-python",
   "name": "python",
   "nbconvert_exporter": "python",
   "pygments_lexer": "ipython3",
   "version": "3.7.6"
  }
 },
 "nbformat": 4,
 "nbformat_minor": 2
}
