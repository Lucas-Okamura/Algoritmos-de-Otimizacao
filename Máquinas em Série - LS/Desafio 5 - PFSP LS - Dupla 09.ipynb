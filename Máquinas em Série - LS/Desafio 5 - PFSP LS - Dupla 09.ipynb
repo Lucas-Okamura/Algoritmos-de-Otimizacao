{
 "cells": [
  {
   "cell_type": "markdown",
   "metadata": {},
   "source": [
    "# Desafio 5 - PFSP LS - Dupla 09\n",
    "\n",
    "**Integrantes:**\n",
    "\n",
    "* Lucas Hideki Takeuchi Okamura NUSP: 9274315\n",
    "\n",
    "* Thales Arantes Kerche Nunes NUSP: 10769372\n",
    "\n",
    "**Objetivo**\n",
    "\n",
    "* Programar a heurística Busca Local (LS - Local Search) para explorar a vizinhança de uma solução inicial para o problema de minimização do makespan em um flow shop com m máquinas.\n",
    "\n",
    "**Descrição**\n",
    "\n",
    "* A busca local inicia-se com uma solução inicial (no nosso caso, do PFSP).\n",
    "\n",
    "* Dada uma sequência, para cada uma das posições da sequência, em ordem aleatória, retira-se o job da sua posição e testa-se a inserção deste job em todas as demais posições possíveis\n",
    "\n",
    "* Se uma melhoria é identificada, reinicia-se a busca local a partir da solução parcial encontrada (solução incumbente)\n",
    "\n",
    "* O procedimento termina quando todas as posições são avaliadas e não há melhoria\n",
    "\n",
    "Ao final, tem-se um \"ótimo local\"\n",
    "\n",
    "Obs: cada busca local terá, no máximo, n*(n-1) inserções\n",
    "\n",
    "**Procedimento (Pseudocódigo)**\n",
    "\n",
    "Algoritmo: Busca Local (LS)\n",
    "\n",
    "Entrada: m, n, jobs1 (solução inicial)\n",
    "\n",
    "Saída: jobs2 (solução melhorada), cmax\n",
    "\n",
    "Procedimento:\n",
    "\n",
    "```\n",
    "leia os dados de entrada (solução inicial)\n",
    "bestCmax=cmax da solução inicial\n",
    "melhoria=Verdadeiro\n",
    "enquanto melhoria faça:\n",
    "   melhoria=Falso\n",
    "   jotas=lista de indices de 1 a n\n",
    "   jotas=jotas embaralhados\n",
    "   para cada j1 em jotas faça:\n",
    "      remova o job da posição j1 e chame-o de job1\n",
    "      bestPos=j1\n",
    "      para j2=1 até n faça:\n",
    "         insira o job1 na posição j2\n",
    "         calcule o cmax\n",
    "         se cmax<bestCmax então:\n",
    "            bestPos=j2\n",
    "            melhoria=Verdadeiro\n",
    "         retire o job1 da posição j2\n",
    "      insira o job1 na melhor posição\n",
    "retorna jobs e cmax\n",
    "```"
   ]
  },
  {
   "cell_type": "code",
   "execution_count": 1,
   "metadata": {},
   "outputs": [],
   "source": [
    "import xlwings as xw\n",
    "import numpy as np"
   ]
  },
  {
   "cell_type": "markdown",
   "metadata": {},
   "source": [
    "## 1. Definindo a Classe Job"
   ]
  },
  {
   "cell_type": "code",
   "execution_count": 2,
   "metadata": {},
   "outputs": [],
   "source": [
    "class Job:\n",
    "    def __init__(self,i,p):\n",
    "        self.i=i     # número do job, pela ordem de chegada\n",
    "        self.p=p     # processing times [p1,p2]\n",
    "        self.C=[]     # completion times [c1,c2]\n",
    "        self.psum = np.sum(self.p)     # sum of values of p"
   ]
  },
  {
   "cell_type": "markdown",
   "metadata": {},
   "source": [
    "## 2. Definindo Funções"
   ]
  },
  {
   "cell_type": "markdown",
   "metadata": {},
   "source": [
    "**Função para o cálculo dos tempos de conclusão dos jobs em cada uma das m máquinas**\n",
    "\n",
    "$p_{(j)k}:$ processing time do job da posição j na máquina k\n",
    "\n",
    "$c_{(j)k}:$ completion time do job da posição j na máquina k\n",
    "\n",
    "$c_{(1)1} = p_{(1)1}$\n",
    "\n",
    "$c_{(1)k}=c_{(1),k−1}+p_{(1)k}$, onde    $k=2,...,m$\n",
    "\n",
    "$c_{(j)1}=c_{(j−1)1}+p_{(j)1}$, onde $j=2,...,n$\n",
    "\n",
    "$c_{(j)k}=max\\left\\{{c_{(j),k−1},c_{(j−1)k}}\\right\\} +p_{(j)k}$, onde $j=2,...,n$ e $k=2,...,m$"
   ]
  },
  {
   "cell_type": "code",
   "execution_count": 3,
   "metadata": {},
   "outputs": [],
   "source": [
    "def calcCmax(m,jobs):     # esta função calcula os tempos de conclusão dos jobs nas m máquinas\n",
    "    n=len(jobs)\n",
    "    c=[[0 for i in range(m)] for j in range(n)]\n",
    "    p=[job.p for job in jobs]\n",
    "    \n",
    "    # primeiro job\n",
    "    c[0][0]=p[0][0]     # primeira máquina\n",
    "    for k in range(1,m):     # próximas máquinas\n",
    "        c[0][k]=c[0][k-1]+p[0][k]\n",
    "        \n",
    "    # próximos jobs\n",
    "    for j in range(1,n):\n",
    "        c[j][0]=c[j-1][0]+p[j][0]     # primeira máquina\n",
    "        for k in range(1,m):     # próximas máquinas\n",
    "            c[j][k]=max(c[j][k-1],c[j-1][k])+p[j][k]\n",
    "            \n",
    "    j=0\n",
    "    for job in jobs:\n",
    "        job.C=c[j]\n",
    "        j+=1\n",
    "    \n",
    "    return c[-1][-1]"
   ]
  },
  {
   "cell_type": "markdown",
   "metadata": {},
   "source": [
    "**Entrada de Dados**"
   ]
  },
  {
   "cell_type": "code",
   "execution_count": 4,
   "metadata": {},
   "outputs": [],
   "source": [
    "def leInst(i):\n",
    "    plan = wb1.sheets[i]\n",
    "    n=int(plan.range('B6').value)\n",
    "    m=int(plan.range('B5').value)\n",
    "    Cmax = int(plan.range('F5').value)\n",
    "    tab=plan.range('A11').expand('table').value\n",
    "    jobs=[]\n",
    "    for j in range(n):\n",
    "        p=tab[j][1:-5]\n",
    "        jobs.append(Job(tab[j][0]-1,p))\n",
    "        \n",
    "    print()\n",
    "    #print('#','p')\n",
    "    #for job in jobs:\n",
    "        #print(job.i, job.p)\n",
    "    \n",
    "    return jobs, m, n, Cmax"
   ]
  },
  {
   "cell_type": "markdown",
   "metadata": {},
   "source": [
    "**Saída de resultados**"
   ]
  },
  {
   "cell_type": "code",
   "execution_count": 5,
   "metadata": {},
   "outputs": [],
   "source": [
    "def gravaSched(i,jobs,Cmax):\n",
    "    n=len(jobs)\n",
    "    tab=[]\n",
    "    for job in jobs:\n",
    "        a=[job.i+1]+job.p+job.C\n",
    "        tab.append(a)\n",
    "\n",
    "    if i==0:\n",
    "        plan=wb2.sheets[0]\n",
    "        plan.name='I(1)'\n",
    "    else:\n",
    "        plan=wb2.sheets.add('I('+str(i+1)+')',after=i)\n",
    "        \n",
    "    plan.range('A5').value=['m',m]\n",
    "    plan.range('A6').value=['n',n]\n",
    "    plan.range('E5').value=['Cmax',Cmax]\n",
    "    plan.range('A10').value=['#','p1','p2','p3','p4','p5','C1','C2','C3','C4','C5']\n",
    "    plan.range('A11').value=tab\n",
    "\n",
    "    print()\n",
    "    # print('#','p','C')\n",
    "    # for job in jobs:\n",
    "    #    print(job.i, job.p, job.C)\n",
    "    print('Cmax:',Cmax)"
   ]
  },
  {
   "cell_type": "markdown",
   "metadata": {},
   "source": [
    "**Algoritmo LS**"
   ]
  },
  {
   "cell_type": "code",
   "execution_count": 6,
   "metadata": {},
   "outputs": [],
   "source": [
    "def schedLS(jobs, m, Cmax):\n",
    "    bestCmax = Cmax\n",
    "    better = True\n",
    "    n = len(jobs)\n",
    "    jobs_final = jobs[:]\n",
    "    while better:\n",
    "        better = False\n",
    "        js = np.arange(n)\n",
    "        # np.random.shuffle(js)\n",
    "        for j1 in js:\n",
    "            job1 = jobs_final.pop(j1)\n",
    "            bestPos = j1\n",
    "            for j2 in range(1, n):\n",
    "                jobs_final.insert(j2, job1)\n",
    "                Cmax_test = calcCmax(m, jobs_final)\n",
    "                if Cmax_test < bestCmax:\n",
    "                    bestPos = j2\n",
    "                    better = True\n",
    "                    bestCmax = Cmax_test\n",
    "                jobs_final.pop(j2)\n",
    "            jobs_final.insert(bestPos, job1)\n",
    "            \n",
    "    return jobs_final, bestCmax"
   ]
  },
  {
   "cell_type": "markdown",
   "metadata": {},
   "source": [
    "## 3. Testando com Dados do Excel"
   ]
  },
  {
   "cell_type": "markdown",
   "metadata": {},
   "source": [
    "Instância de teste menor (aula)"
   ]
  },
  {
   "cell_type": "code",
   "execution_count": 7,
   "metadata": {},
   "outputs": [
    {
     "name": "stdout",
     "output_type": "stream",
     "text": [
      "# p C\n",
      "1 [1, 3] [1, 4]\n",
      "3 [2, 5] [3, 9]\n",
      "4 [4, 6] [7, 15]\n",
      "2 [8, 6] [15, 21]\n",
      "0 [6, 3] [21, 24]\n",
      "Cmax: 24\n"
     ]
    }
   ],
   "source": [
    "ps = [[6, 3],\n",
    "      [1, 3],\n",
    "      [8, 6],\n",
    "      [2, 5],\n",
    "      [4, 6]]\n",
    "\n",
    "jobs_test = []\n",
    "n = len(ps)\n",
    "m = len(ps[0])\n",
    "\n",
    "for i in range(n):\n",
    "    jobs_test.append(Job(i, ps[i]))\n",
    "    \n",
    "Cmax = calcCmax(m, jobs_test)\n",
    "    \n",
    "jobs_test, bestCmax = schedLS(jobs_test, m, Cmax)\n",
    "\n",
    "print('#','p','C')\n",
    "for job in jobs_test:\n",
    "    print(job.i, job.p, job.C)\n",
    "print('Cmax:',bestCmax)"
   ]
  },
  {
   "cell_type": "markdown",
   "metadata": {},
   "source": [
    "Instâncias de teste Excel"
   ]
  },
  {
   "cell_type": "code",
   "execution_count": 8,
   "metadata": {},
   "outputs": [
    {
     "name": "stdout",
     "output_type": "stream",
     "text": [
      "\n",
      "1\n",
      "\n",
      "\n",
      "Cmax: 1191.0\n",
      "\n",
      "2\n",
      "\n",
      "\n",
      "Cmax: 1269\n",
      "\n",
      "3\n",
      "\n",
      "\n",
      "Cmax: 1147\n",
      "\n",
      "4\n",
      "\n",
      "\n",
      "Cmax: 1147\n",
      "\n",
      "5\n",
      "\n",
      "\n",
      "Cmax: 1252\n",
      "\n",
      "6\n",
      "\n",
      "\n",
      "Cmax: 1171.0\n",
      "\n",
      "7\n",
      "\n",
      "\n",
      "Cmax: 1290\n",
      "\n",
      "8\n",
      "\n",
      "\n",
      "Cmax: 1189\n",
      "\n",
      "9\n",
      "\n",
      "\n",
      "Cmax: 1273\n",
      "\n",
      "10\n",
      "\n",
      "\n",
      "Cmax: 1179\n"
     ]
    }
   ],
   "source": [
    "wb1 = xw.Book('xl10 1 B PFSP Cmax NEH.xlsx')\n",
    "wb2 = xw.Book()\n",
    "I = wb1.sheets.count     # número de instância é igual ao número de planilhas na pasta\n",
    "\n",
    "for i in range(I):\n",
    "    print()\n",
    "    print(i+1)\n",
    "    jobs, m, n, Cmax = leInst(i)\n",
    "    jobs, Cmax = schedLS(jobs, m, Cmax)\n",
    "    gravaSched(i,jobs,Cmax)\n",
    "    \n",
    "wb2.save('xl10 2 B PFSP Cmax NEH-LS.xlsx')"
   ]
  },
  {
   "attachments": {
    "NEHxLS.png": {
     "image/png": "[encoded data removed]"
    }
   },
   "cell_type": "markdown",
   "metadata": {},
   "source": [
    "## 4. Comparação NEH e LS\n",
    "![NEHxLS.png](attachment:NEHxLS.png)\n",
    "\n",
    "Assim, observa-se que para instâncias I(1) e I(6), o método de _Local Search_ mostrou um aprimoramento em relação ao _NEH_."
   ]
  }
 ],
 "metadata": {
  "kernelspec": {
   "display_name": "Python 3",
   "language": "python",
   "name": "python3"
  },
  "language_info": {
   "codemirror_mode": {
    "name": "ipython",
    "version": 3
   },
   "file_extension": ".py",
   "mimetype": "text/x-python",
   "name": "python",
   "nbconvert_exporter": "python",
   "pygments_lexer": "ipython3",
   "version": "3.7.6"
  }
 },
 "nbformat": 4,
 "nbformat_minor": 4
}
